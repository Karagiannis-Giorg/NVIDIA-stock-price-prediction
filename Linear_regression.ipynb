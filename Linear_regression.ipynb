{
 "cells": [
  {
   "cell_type": "markdown",
   "id": "13f7e166-5845-4241-be24-badd9541e075",
   "metadata": {},
   "source": [
    "# Creating Data"
   ]
  },
  {
   "cell_type": "code",
   "execution_count": 1,
   "id": "8b8676b0-a4f1-4751-a430-2a916c069863",
   "metadata": {
    "scrolled": true
   },
   "outputs": [],
   "source": [
    "import requests\n",
    "\n",
    "#API_KEY = 0CUKFG69H3TWK38Y\n",
    "#STOCK SYMBOL = NVDA\n",
    "# replace the \"demo\" apikey below with your own key from https://www.alphavantage.co/support/#api-key\n",
    "url = 'https://www.alphavantage.co/query?function=TIME_SERIES_DAILY&symbol=NVDA&outputsize=full&apikey=0CUKFG69H3TWK38Y'   # replace API KEY and stock symbol\n",
    "r = requests.get(url)\n",
    "data = r.json()"
   ]
  },
  {
   "cell_type": "code",
   "execution_count": 2,
   "id": "53f431e7-bbd5-45bc-9684-739cb160f46f",
   "metadata": {},
   "outputs": [
    {
     "name": "stdout",
     "output_type": "stream",
     "text": [
      "Data saved to Stock_prices.csv\n"
     ]
    }
   ],
   "source": [
    "import json\n",
    "import csv\n",
    "\n",
    "# Sample JSON data as a string (you would replace this with loading the JSON from a file)\n",
    "json_data = '''{\n",
    "    \"Meta Data\": {\n",
    "        \"1. Information\": \"Daily Prices (open, high, low, close) and Volumes\",\n",
    "        \"2. Symbol\": \"IBM\",\n",
    "        \"3. Last Refreshed\": \"2024-10-24\",\n",
    "        \"4. Output Size\": \"Compact\",\n",
    "        \"5. Time Zone\": \"US/Eastern\"\n",
    "    },\n",
    "    \"Time Series (Daily)\": {\n",
    "        \"2024-10-24\": {\"1. open\": \"220.8000\", \"2. high\": \"221.3200\", \"3. low\": \"216.1600\", \"4. close\": \"218.3900\", \"5. volume\": \"11193440\"},\n",
    "        \"2024-10-23\": {\"1. open\": \"223.1000\", \"2. high\": \"224.5000\", \"3. low\": \"217.0000\", \"4. close\": \"220.0000\", \"5. volume\": \"12800000\"}\n",
    "        // more dates can be added here\n",
    "    }\n",
    "}'''\n",
    "\n",
    "# Load JSON data\n",
    "#data = json.loads(json_data)\n",
    "\n",
    "# Extract \"Time Series (Daily)\" part\n",
    "time_series = data.get(\"Time Series (Daily)\", {})\n",
    "\n",
    "# Prepare data for CSV\n",
    "csv_data = [(\"Date\", \"Close\")]  # Header for CSV file\n",
    "\n",
    "# Loop through each date and get the \"close\" price\n",
    "for date, daily_data in time_series.items():\n",
    "    close_price = daily_data.get(\"4. close\", None)\n",
    "    if close_price:\n",
    "        csv_data.append((date, close_price))\n",
    "\n",
    "# Write data to CSV file\n",
    "csv_file = 'Stock_prices.csv'\n",
    "with open(csv_file, mode='w', newline='') as file:\n",
    "    writer = csv.writer(file)\n",
    "    writer.writerows(csv_data)\n",
    "\n",
    "print(f\"Data saved to {csv_file}\")"
   ]
  },
  {
   "cell_type": "markdown",
   "id": "768c8ef7-89a7-4dac-b398-827cad856726",
   "metadata": {},
   "source": [
    "# Preprocessing"
   ]
  },
  {
   "cell_type": "code",
   "execution_count": 3,
   "id": "7c1bdcbc-83b1-4ade-8daa-c3cdb3ead55a",
   "metadata": {},
   "outputs": [
    {
     "name": "stdout",
     "output_type": "stream",
     "text": [
      "         Date    Close\n",
      "0  2024-10-30  139.335\n",
      "1  2024-10-29  141.250\n",
      "2  2024-10-28  140.520\n",
      "3  2024-10-25  141.540\n",
      "4  2024-10-24  140.410\n",
      "Date     0\n",
      "Close    0\n",
      "dtype: int64\n",
      "Date      object\n",
      "Close    float64\n",
      "dtype: object\n"
     ]
    }
   ],
   "source": [
    "import pandas as pd\n",
    "import numpy as np\n",
    "from scipy.ndimage import gaussian_filter1d\n",
    "from scipy.signal import savgol_filter\n",
    "\n",
    "# Ανάγνωση των δεδομένων \n",
    "data = pd.read_csv('Stock_prices.csv')\n",
    "print(data.head())\n",
    "\n",
    "# Έλεγχος για το αν υπάρχουν NULL τιμές \n",
    "print(data.isna().sum())\n",
    "# Έλεγχος τύπων δεδομένων\n",
    "print(data.dtypes)"
   ]
  },
  {
   "cell_type": "code",
   "execution_count": 4,
   "id": "b50b9c14-d06b-4d13-b1ac-b0e80373140e",
   "metadata": {},
   "outputs": [],
   "source": [
    "# Μετατροπή του index column \n",
    "data['Date']=pd.to_datetime(data['Date'])\n",
    "data.set_index('Date',inplace=True)"
   ]
  },
  {
   "cell_type": "code",
   "execution_count": 5,
   "id": "e5e91a34-1f0f-464b-89fd-c3e46fe48aa3",
   "metadata": {},
   "outputs": [],
   "source": [
    "# Εφαρμογή Gaussian Φίλτρου\n",
    "\n",
    "# Καθορισμός σ (τυπική απόκλιση) για το Gaussian φίλτρο\n",
    "sigma = 2\n",
    "# Εφαρμογή Gaussian φίλτρου στην στήλη Close\n",
    "data['Close'] = gaussian_filter1d(data['Close'].values, sigma=sigma)"
   ]
  },
  {
   "cell_type": "code",
   "execution_count": 6,
   "id": "823f7c35-36c5-450f-9a3c-43a0d1991133",
   "metadata": {},
   "outputs": [
    {
     "data": {
      "text/html": [
       "<div>\n",
       "<style scoped>\n",
       "    .dataframe tbody tr th:only-of-type {\n",
       "        vertical-align: middle;\n",
       "    }\n",
       "\n",
       "    .dataframe tbody tr th {\n",
       "        vertical-align: top;\n",
       "    }\n",
       "\n",
       "    .dataframe thead th {\n",
       "        text-align: right;\n",
       "    }\n",
       "</style>\n",
       "<table border=\"1\" class=\"dataframe\">\n",
       "  <thead>\n",
       "    <tr style=\"text-align: right;\">\n",
       "      <th></th>\n",
       "      <th>Close</th>\n",
       "    </tr>\n",
       "    <tr>\n",
       "      <th>Date</th>\n",
       "      <th></th>\n",
       "    </tr>\n",
       "  </thead>\n",
       "  <tbody>\n",
       "    <tr>\n",
       "      <th>2024-10-30</th>\n",
       "      <td>140.380543</td>\n",
       "    </tr>\n",
       "    <tr>\n",
       "      <th>2024-10-29</th>\n",
       "      <td>140.492404</td>\n",
       "    </tr>\n",
       "    <tr>\n",
       "      <th>2024-10-28</th>\n",
       "      <td>140.657693</td>\n",
       "    </tr>\n",
       "    <tr>\n",
       "      <th>2024-10-25</th>\n",
       "      <td>140.826575</td>\n",
       "    </tr>\n",
       "    <tr>\n",
       "      <th>2024-10-24</th>\n",
       "      <td>140.979034</td>\n",
       "    </tr>\n",
       "  </tbody>\n",
       "</table>\n",
       "</div>"
      ],
      "text/plain": [
       "                 Close\n",
       "Date                  \n",
       "2024-10-30  140.380543\n",
       "2024-10-29  140.492404\n",
       "2024-10-28  140.657693\n",
       "2024-10-25  140.826575\n",
       "2024-10-24  140.979034"
      ]
     },
     "execution_count": 6,
     "metadata": {},
     "output_type": "execute_result"
    }
   ],
   "source": [
    "data.head()"
   ]
  },
  {
   "cell_type": "code",
   "execution_count": 7,
   "id": "d3f8a60d-0bcd-4494-b3fb-8d56e4d36aa1",
   "metadata": {},
   "outputs": [],
   "source": [
    "# Εφαρμογή Savitzky-Golay Φίλτρου\n",
    "\n",
    "# Παράδειγμα παραμέτρων\n",
    "window_length = 5  # Το μήκος του παραθύρου\n",
    "polyorder = 2      # Τάξη του πολυωνύμου\n",
    "\n",
    "# Εφαρμογή του φίλτρου Savitzky-Golay στην στήλη Close\n",
    "data['Close'] = savgol_filter(data['Close'].values, window_length=window_length, polyorder=polyorder)"
   ]
  },
  {
   "cell_type": "code",
   "execution_count": 8,
   "id": "22442a02-2881-4bac-b186-0dc3cba4573c",
   "metadata": {},
   "outputs": [
    {
     "data": {
      "text/html": [
       "<div>\n",
       "<style scoped>\n",
       "    .dataframe tbody tr th:only-of-type {\n",
       "        vertical-align: middle;\n",
       "    }\n",
       "\n",
       "    .dataframe tbody tr th {\n",
       "        vertical-align: top;\n",
       "    }\n",
       "\n",
       "    .dataframe thead th {\n",
       "        text-align: right;\n",
       "    }\n",
       "</style>\n",
       "<table border=\"1\" class=\"dataframe\">\n",
       "  <thead>\n",
       "    <tr style=\"text-align: right;\">\n",
       "      <th></th>\n",
       "      <th>Close</th>\n",
       "    </tr>\n",
       "    <tr>\n",
       "      <th>Date</th>\n",
       "      <th></th>\n",
       "    </tr>\n",
       "  </thead>\n",
       "  <tbody>\n",
       "    <tr>\n",
       "      <th>2024-10-30</th>\n",
       "      <td>140.373132</td>\n",
       "    </tr>\n",
       "    <tr>\n",
       "      <th>2024-10-29</th>\n",
       "      <td>140.508078</td>\n",
       "    </tr>\n",
       "    <tr>\n",
       "      <th>2024-10-28</th>\n",
       "      <td>140.655137</td>\n",
       "    </tr>\n",
       "    <tr>\n",
       "      <th>2024-10-25</th>\n",
       "      <td>140.831076</td>\n",
       "    </tr>\n",
       "    <tr>\n",
       "      <th>2024-10-24</th>\n",
       "      <td>140.989065</td>\n",
       "    </tr>\n",
       "  </tbody>\n",
       "</table>\n",
       "</div>"
      ],
      "text/plain": [
       "                 Close\n",
       "Date                  \n",
       "2024-10-30  140.373132\n",
       "2024-10-29  140.508078\n",
       "2024-10-28  140.655137\n",
       "2024-10-25  140.831076\n",
       "2024-10-24  140.989065"
      ]
     },
     "execution_count": 8,
     "metadata": {},
     "output_type": "execute_result"
    }
   ],
   "source": [
    "data.head()"
   ]
  },
  {
   "cell_type": "markdown",
   "id": "3d6a2908-f8ac-4744-895c-c062d680063a",
   "metadata": {},
   "source": [
    "# Lagged Data"
   ]
  },
  {
   "cell_type": "code",
   "execution_count": 11,
   "id": "1c8589c6-8f82-469a-9479-0dea3eca8596",
   "metadata": {},
   "outputs": [
    {
     "name": "stdout",
     "output_type": "stream",
     "text": [
      "               Close_1     Close_2     Close_3     Close_4     Close_5  \\\n",
      "Date                                                                     \n",
      "2024-10-30  140.508078  140.655137  140.831076  140.989065  141.043337   \n",
      "2024-10-29  140.655137  140.831076  140.989065  141.043337  140.810049   \n",
      "2024-10-28  140.831076  140.989065  141.043337  140.810049  140.112037   \n",
      "2024-10-25  140.989065  141.043337  140.810049  140.112037  138.963383   \n",
      "2024-10-24  141.043337  140.810049  140.112037  138.963383  137.626311   \n",
      "\n",
      "               Close_6     Close_7     Close_8     Close_9    Close_10  ...  \\\n",
      "Date                                                                    ...   \n",
      "2024-10-30  140.810049  140.112037  138.963383  137.626311  136.448231  ...   \n",
      "2024-10-29  140.112037  138.963383  137.626311  136.448231  135.617052  ...   \n",
      "2024-10-28  138.963383  137.626311  136.448231  135.617052  135.044773  ...   \n",
      "2024-10-25  137.626311  136.448231  135.617052  135.044773  134.452492  ...   \n",
      "2024-10-24  136.448231  135.617052  135.044773  134.452492  133.549635  ...   \n",
      "\n",
      "              Close_62    Close_63    Close_64    Close_65    Close_66  \\\n",
      "Date                                                                     \n",
      "2024-10-30  106.548592  108.143022  109.439038  110.434448  111.427710   \n",
      "2024-10-29  108.143022  109.439038  110.434448  111.427710  112.735788   \n",
      "2024-10-28  109.439038  110.434448  111.427710  112.735788  114.453135   \n",
      "2024-10-25  110.434448  111.427710  112.735788  114.453135  116.387794   \n",
      "2024-10-24  111.427710  112.735788  114.453135  116.387794  118.176883   \n",
      "\n",
      "              Close_67    Close_68    Close_69    Close_70       Close  \n",
      "Date                                                                    \n",
      "2024-10-30  112.735788  114.453135  116.387794  118.176883  140.373132  \n",
      "2024-10-29  114.453135  116.387794  118.176883  119.545874  140.508078  \n",
      "2024-10-28  116.387794  118.176883  119.545874  120.550429  140.655137  \n",
      "2024-10-25  118.176883  119.545874  120.550429  121.550539  140.831076  \n",
      "2024-10-24  119.545874  120.550429  121.550539  122.894973  140.989065  \n",
      "\n",
      "[5 rows x 71 columns]\n",
      "              Close_1    Close_2    Close_3    Close_4  Close_5  Close_6  \\\n",
      "Date                                                                       \n",
      "1999-11-05  27.574503  26.767430  26.065782  25.398109      0.0      0.0   \n",
      "1999-11-04  26.767430  26.065782  25.398109   0.000000      0.0      0.0   \n",
      "1999-11-03  26.065782  25.398109   0.000000   0.000000      0.0      0.0   \n",
      "1999-11-02  25.398109   0.000000   0.000000   0.000000      0.0      0.0   \n",
      "1999-11-01   0.000000   0.000000   0.000000   0.000000      0.0      0.0   \n",
      "\n",
      "            Close_7  Close_8  Close_9  Close_10  ...  Close_62  Close_63  \\\n",
      "Date                                             ...                       \n",
      "1999-11-05      0.0      0.0      0.0       0.0  ...       0.0       0.0   \n",
      "1999-11-04      0.0      0.0      0.0       0.0  ...       0.0       0.0   \n",
      "1999-11-03      0.0      0.0      0.0       0.0  ...       0.0       0.0   \n",
      "1999-11-02      0.0      0.0      0.0       0.0  ...       0.0       0.0   \n",
      "1999-11-01      0.0      0.0      0.0       0.0  ...       0.0       0.0   \n",
      "\n",
      "            Close_64  Close_65  Close_66  Close_67  Close_68  Close_69  \\\n",
      "Date                                                                     \n",
      "1999-11-05       0.0       0.0       0.0       0.0       0.0       0.0   \n",
      "1999-11-04       0.0       0.0       0.0       0.0       0.0       0.0   \n",
      "1999-11-03       0.0       0.0       0.0       0.0       0.0       0.0   \n",
      "1999-11-02       0.0       0.0       0.0       0.0       0.0       0.0   \n",
      "1999-11-01       0.0       0.0       0.0       0.0       0.0       0.0   \n",
      "\n",
      "            Close_70      Close  \n",
      "Date                             \n",
      "1999-11-05       0.0  28.215734  \n",
      "1999-11-04       0.0  27.574503  \n",
      "1999-11-03       0.0  26.767430  \n",
      "1999-11-02       0.0  26.065782  \n",
      "1999-11-01       0.0  25.398109  \n",
      "\n",
      "[5 rows x 71 columns]\n"
     ]
    }
   ],
   "source": [
    "New_data = data.copy()\n",
    "New_data_col = []\n",
    "\n",
    "# Δημιουργία καθυστερημένων στηλών\n",
    "lagged_col_data = {}  # Λεξικό για αποθήκευση δεδομένων καθυστερημένων στηλών\n",
    "for i in range(1, 71):\n",
    "    for col in ['Close']:\n",
    "        lagged_col_name = f\"{col}_{i}\"  # Δημιουργία ονόματος καθυστερημένης στήλης\n",
    "        lagged_col_data[lagged_col_name] = New_data[col].shift(-i)  # Δημιουργία καθυστερημένων στηλών\n",
    "        New_data_col.append(lagged_col_name)\n",
    "\n",
    "# Συγχώνευση δεδομένων καθυστερημένων στηλών\n",
    "New_data = pd.concat([New_data, pd.DataFrame(lagged_col_data)], axis=1)\n",
    "\n",
    "# Συμπλήρωση τιμών NaN με 0\n",
    "New_data.fillna(0, inplace=True)\n",
    "\n",
    "# Αφαίρεση της στήλης 'Close' από το DataFrame\n",
    "New_data_column = New_data.pop('Close')\n",
    "\n",
    "# Εισαγωγή της στήλης 'label' στο τέλος του νέου Data Frame \n",
    "New_data['Close'] = New_data_column\n",
    "\n",
    "# Εμφάνιση του πρώτου κομματιού του καθυστερημένου DataFrame για έλεγχο των αλλαγών\n",
    "print(New_data.head())\n",
    "print(New_data.tail())"
   ]
  },
  {
   "cell_type": "markdown",
   "id": "53031565-cd1a-4953-acec-c8621bdf3e38",
   "metadata": {},
   "source": [
    "# Train & Validation Data "
   ]
  },
  {
   "cell_type": "code",
   "execution_count": 12,
   "id": "9f62db9c-3ec0-4f05-95ef-bfe6c16688d2",
   "metadata": {
    "scrolled": true
   },
   "outputs": [
    {
     "name": "stdout",
     "output_type": "stream",
     "text": [
      "               Close_1     Close_2     Close_3     Close_4     Close_5  \\\n",
      "Date                                                                     \n",
      "2023-12-29  490.667163  491.441291  491.244116  490.624552  490.261232   \n",
      "2023-12-28  491.441291  491.244116  490.624552  490.261232  490.384625   \n",
      "2023-12-27  491.244116  490.624552  490.261232  490.384625  490.534423   \n",
      "2023-12-26  490.624552  490.261232  490.384625  490.534423  489.869318   \n",
      "2023-12-22  490.261232  490.384625  490.534423  489.869318  487.819726   \n",
      "...                ...         ...         ...         ...         ...   \n",
      "1999-11-05   27.574503   26.767430   26.065782   25.398109    0.000000   \n",
      "1999-11-04   26.767430   26.065782   25.398109    0.000000    0.000000   \n",
      "1999-11-03   26.065782   25.398109    0.000000    0.000000    0.000000   \n",
      "1999-11-02   25.398109    0.000000    0.000000    0.000000    0.000000   \n",
      "1999-11-01    0.000000    0.000000    0.000000    0.000000    0.000000   \n",
      "\n",
      "               Close_6     Close_7     Close_8     Close_9    Close_10  ...  \\\n",
      "Date                                                                    ...   \n",
      "2023-12-29  490.384625  490.534423  489.869318  487.819726  484.490664  ...   \n",
      "2023-12-28  490.534423  489.869318  487.819726  484.490664  480.482646  ...   \n",
      "2023-12-27  489.869318  487.819726  484.490664  480.482646  476.414679  ...   \n",
      "2023-12-26  487.819726  484.490664  480.482646  476.414679  472.622844  ...   \n",
      "2023-12-22  484.490664  480.482646  476.414679  472.622844  469.215893  ...   \n",
      "...                ...         ...         ...         ...         ...  ...   \n",
      "1999-11-05    0.000000    0.000000    0.000000    0.000000    0.000000  ...   \n",
      "1999-11-04    0.000000    0.000000    0.000000    0.000000    0.000000  ...   \n",
      "1999-11-03    0.000000    0.000000    0.000000    0.000000    0.000000  ...   \n",
      "1999-11-02    0.000000    0.000000    0.000000    0.000000    0.000000  ...   \n",
      "1999-11-01    0.000000    0.000000    0.000000    0.000000    0.000000  ...   \n",
      "\n",
      "              Close_62    Close_63    Close_64    Close_65    Close_66  \\\n",
      "Date                                                                     \n",
      "2023-12-29  438.052644  434.582521  430.710402  426.792558  423.413211   \n",
      "2023-12-28  434.582521  430.710402  426.792558  423.413211  421.180932   \n",
      "2023-12-27  430.710402  426.792558  423.413211  421.180932  420.679844   \n",
      "2023-12-26  426.792558  423.413211  421.180932  420.679844  422.340529   \n",
      "2023-12-22  423.413211  421.180932  420.679844  422.340529  426.136134   \n",
      "...                ...         ...         ...         ...         ...   \n",
      "1999-11-05    0.000000    0.000000    0.000000    0.000000    0.000000   \n",
      "1999-11-04    0.000000    0.000000    0.000000    0.000000    0.000000   \n",
      "1999-11-03    0.000000    0.000000    0.000000    0.000000    0.000000   \n",
      "1999-11-02    0.000000    0.000000    0.000000    0.000000    0.000000   \n",
      "1999-11-01    0.000000    0.000000    0.000000    0.000000    0.000000   \n",
      "\n",
      "              Close_67    Close_68    Close_69    Close_70       Close  \n",
      "Date                                                                    \n",
      "2023-12-29  421.180932  420.679844  422.340529  426.136134  489.106251  \n",
      "2023-12-28  420.679844  422.340529  426.136134  431.429953  490.667163  \n",
      "2023-12-27  422.340529  426.136134  431.429953  437.222930  491.441291  \n",
      "2023-12-26  426.136134  431.429953  437.222930  442.578401  491.244116  \n",
      "2023-12-22  431.429953  437.222930  442.578401  446.916402  490.624552  \n",
      "...                ...         ...         ...         ...         ...  \n",
      "1999-11-05    0.000000    0.000000    0.000000    0.000000   28.215734  \n",
      "1999-11-04    0.000000    0.000000    0.000000    0.000000   27.574503  \n",
      "1999-11-03    0.000000    0.000000    0.000000    0.000000   26.767430  \n",
      "1999-11-02    0.000000    0.000000    0.000000    0.000000   26.065782  \n",
      "1999-11-01    0.000000    0.000000    0.000000    0.000000   25.398109  \n",
      "\n",
      "[6080 rows x 71 columns]\n",
      "               Close_1     Close_2     Close_3     Close_4     Close_5  \\\n",
      "Date                                                                     \n",
      "2024-10-30  140.508078  140.655137  140.831076  140.989065  141.043337   \n",
      "2024-10-29  140.655137  140.831076  140.989065  141.043337  140.810049   \n",
      "2024-10-28  140.831076  140.989065  141.043337  140.810049  140.112037   \n",
      "2024-10-25  140.989065  141.043337  140.810049  140.112037  138.963383   \n",
      "2024-10-24  141.043337  140.810049  140.112037  138.963383  137.626311   \n",
      "...                ...         ...         ...         ...         ...   \n",
      "2024-01-08  502.891163  494.043010  489.111360  487.966873  489.106251   \n",
      "2024-01-05  494.043010  489.111360  487.966873  489.106251  490.667163   \n",
      "2024-01-04  489.111360  487.966873  489.106251  490.667163  491.441291   \n",
      "2024-01-03  487.966873  489.106251  490.667163  491.441291  491.244116   \n",
      "2024-01-02  489.106251  490.667163  491.441291  491.244116  490.624552   \n",
      "\n",
      "               Close_6     Close_7     Close_8     Close_9    Close_10  ...  \\\n",
      "Date                                                                    ...   \n",
      "2024-10-30  140.810049  140.112037  138.963383  137.626311  136.448231  ...   \n",
      "2024-10-29  140.112037  138.963383  137.626311  136.448231  135.617052  ...   \n",
      "2024-10-28  138.963383  137.626311  136.448231  135.617052  135.044773  ...   \n",
      "2024-10-25  137.626311  136.448231  135.617052  135.044773  134.452492  ...   \n",
      "2024-10-24  136.448231  135.617052  135.044773  134.452492  133.549635  ...   \n",
      "...                ...         ...         ...         ...         ...  ...   \n",
      "2024-01-08  490.667163  491.441291  491.244116  490.624552  490.261232  ...   \n",
      "2024-01-05  491.441291  491.244116  490.624552  490.261232  490.384625  ...   \n",
      "2024-01-04  491.244116  490.624552  490.261232  490.384625  490.534423  ...   \n",
      "2024-01-03  490.624552  490.261232  490.384625  490.534423  489.869318  ...   \n",
      "2024-01-02  490.261232  490.384625  490.534423  489.869318  487.819726  ...   \n",
      "\n",
      "              Close_62    Close_63    Close_64    Close_65    Close_66  \\\n",
      "Date                                                                     \n",
      "2024-10-30  106.548592  108.143022  109.439038  110.434448  111.427710   \n",
      "2024-10-29  108.143022  109.439038  110.434448  111.427710  112.735788   \n",
      "2024-10-28  109.439038  110.434448  111.427710  112.735788  114.453135   \n",
      "2024-10-25  110.434448  111.427710  112.735788  114.453135  116.387794   \n",
      "2024-10-24  111.427710  112.735788  114.453135  116.387794  118.176883   \n",
      "...                ...         ...         ...         ...         ...   \n",
      "2024-01-08  455.472562  451.816389  447.996059  444.425729  441.203819   \n",
      "2024-01-05  451.816389  447.996059  444.425729  441.203819  438.052644   \n",
      "2024-01-04  447.996059  444.425729  441.203819  438.052644  434.582521   \n",
      "2024-01-03  444.425729  441.203819  438.052644  434.582521  430.710402   \n",
      "2024-01-02  441.203819  438.052644  434.582521  430.710402  426.792558   \n",
      "\n",
      "              Close_67    Close_68    Close_69    Close_70       Close  \n",
      "Date                                                                    \n",
      "2024-10-30  112.735788  114.453135  116.387794  118.176883  140.373132  \n",
      "2024-10-29  114.453135  116.387794  118.176883  119.545874  140.508078  \n",
      "2024-10-28  116.387794  118.176883  119.545874  120.550429  140.655137  \n",
      "2024-10-25  118.176883  119.545874  120.550429  121.550539  140.831076  \n",
      "2024-10-24  119.545874  120.550429  121.550539  122.894973  140.989065  \n",
      "...                ...         ...         ...         ...         ...  \n",
      "2024-01-08  438.052644  434.582521  430.710402  426.792558  514.224678  \n",
      "2024-01-05  434.582521  430.710402  426.792558  423.413211  502.891163  \n",
      "2024-01-04  430.710402  426.792558  423.413211  421.180932  494.043010  \n",
      "2024-01-03  426.792558  423.413211  421.180932  420.679844  489.111360  \n",
      "2024-01-02  423.413211  421.180932  420.679844  422.340529  487.966873  \n",
      "\n",
      "[210 rows x 71 columns]\n"
     ]
    }
   ],
   "source": [
    "from sklearn.model_selection import train_test_split\n",
    "# Δεδομένα εκπαίδευσης\n",
    "Train_data = New_data[New_data.index.year <= 2023]\n",
    "print(Train_data)\n",
    "# Δεδομένα επικύρωσης \n",
    "Valid_test_data = New_data[New_data.index.year > 2023]\n",
    "print(Valid_test_data)"
   ]
  },
  {
   "cell_type": "code",
   "execution_count": 13,
   "id": "d3a593bd-4e1e-4935-b507-49c0a52c0e59",
   "metadata": {},
   "outputs": [],
   "source": [
    "X_train = Train_data.drop(['Close'], axis=1)\n",
    "y_train = Train_data['Close']"
   ]
  },
  {
   "cell_type": "code",
   "execution_count": 14,
   "id": "dcda1ca0-e757-44f7-9e17-707f2405c7d7",
   "metadata": {},
   "outputs": [],
   "source": [
    "X = Valid_test_data.drop(['Close'], axis=1)  # Εξαίρεση της τελευταίας στήλης, που είναι η ετικέτα κλεισίματος της μςτοχής \n",
    "y = Valid_test_data['Close']\n",
    "\n",
    "X_val, X_test, y_val, y_test = train_test_split(X, y, test_size=0.4)"
   ]
  },
  {
   "cell_type": "markdown",
   "id": "9128fd13-8868-4af0-a4ec-e3c3de51ed7d",
   "metadata": {},
   "source": [
    "# Linear Model"
   ]
  },
  {
   "cell_type": "code",
   "execution_count": 15,
   "id": "9d958df4-a9db-4882-93fa-268d9bd082e0",
   "metadata": {},
   "outputs": [
    {
     "name": "stdout",
     "output_type": "stream",
     "text": [
      "Συντελεστές: [ 2.50535595e+00 -1.78102930e+00 -2.02558953e-01  4.25621395e-01\n",
      "  2.60061733e-01 -8.86519056e-02 -1.72324208e-01 -3.51421412e-02\n",
      "  7.27606866e-02  5.24121355e-02 -1.18165293e-02 -3.11119847e-02\n",
      " -9.73331486e-03  7.98803687e-03  8.04251840e-03  4.28080721e-03\n",
      "  3.36569411e-03 -6.70604176e-04 -8.16637875e-03 -9.69568695e-03\n",
      " -5.97539139e-04  1.02466568e-02  1.02352279e-02 -9.67310517e-04\n",
      " -9.84541740e-03 -5.84082520e-03  4.65760695e-03  7.33017265e-03\n",
      " -1.89167292e-04 -6.56312051e-03 -4.26415105e-03  1.59861705e-03\n",
      "  4.18558158e-03  4.15795620e-03  3.14993508e-03 -1.78142815e-03\n",
      " -9.43008377e-03 -9.32110366e-03  3.84473082e-03  1.66135367e-02\n",
      "  1.07312200e-02 -1.00578578e-02 -2.00349549e-02 -4.08440571e-03\n",
      "  1.92631816e-02  1.91333832e-02 -6.26875195e-03 -2.45482364e-02\n",
      " -1.12297662e-02  1.66659303e-02  2.27861218e-02 -2.34212489e-04\n",
      " -2.21100930e-02 -1.57635211e-02  8.78525987e-03  2.00565613e-02\n",
      "  5.70611342e-03 -1.44046316e-02 -1.52287269e-02  3.16613240e-03\n",
      "  1.80226542e-02  1.20750064e-02 -7.90241211e-03 -2.07527479e-02\n",
      " -1.29844820e-02  9.74531244e-03  2.63249615e-02  1.18461709e-02\n",
      " -5.06232447e-02  2.56407792e-02]\n",
      "Βασική τιμή: 0.01638267688016981\n"
     ]
    }
   ],
   "source": [
    "from sklearn.linear_model import LinearRegression\n",
    "from sklearn.metrics import mean_squared_error, mean_absolute_error, r2_score\n",
    "\n",
    "# Δημιουργία και εκπαίδευση του γραμμικού μοντέλου\n",
    "model = LinearRegression()\n",
    "model.fit(X_train, y_train)\n",
    "\n",
    "coefficients = model.coef_\n",
    "intercept = model.intercept_\n",
    "print(\"Συντελεστές:\", coefficients)\n",
    "print(\"Βασική τιμή:\", intercept)"
   ]
  },
  {
   "cell_type": "code",
   "execution_count": 16,
   "id": "de540ed9-a220-477d-b32d-2143fab2d80f",
   "metadata": {},
   "outputs": [
    {
     "name": "stdout",
     "output_type": "stream",
     "text": [
      "Validation MSE: 12.714330476780843\n",
      "Validation MAE: 1.6295077129890745\n",
      "Validation R²: 0.999907223598682\n"
     ]
    }
   ],
   "source": [
    "# Πρόβλεψη επάνω στα δεδομένα επικύρωσης \n",
    "y_val_pred = model.predict(X_val)\n",
    "\n",
    "# Υπολογισμός μετρικών αξιολόγησης\n",
    "mse_val = mean_squared_error(y_val, y_val_pred)\n",
    "mae_val = mean_absolute_error(y_val, y_val_pred)\n",
    "r2_val = r2_score(y_val, y_val_pred)\n",
    "\n",
    "# Εκτύπωση αποτελεσμάτων\n",
    "print(f'Validation MSE: {mse_val}')\n",
    "print(f'Validation MAE: {mae_val}')\n",
    "print(f'Validation R²: {r2_val}')"
   ]
  },
  {
   "cell_type": "code",
   "execution_count": 17,
   "id": "a777a926-1d99-4eaf-875a-d12aaff408f7",
   "metadata": {},
   "outputs": [
    {
     "name": "stdout",
     "output_type": "stream",
     "text": [
      "Test MSE: 35.66146394508081\n",
      "Test MAE: 2.231383687181066\n",
      "Test R²: 0.9996980244151945\n"
     ]
    }
   ],
   "source": [
    "# Πρόβλεψη επάνω στα δεδομένα ελέγχου \n",
    "y_test_pred = model.predict(X_test)\n",
    "\n",
    "# Υπολογισμός μετρικών αξιολόγησης\n",
    "mse_test = mean_squared_error(y_test, y_test_pred)\n",
    "mae_test = mean_absolute_error(y_test, y_test_pred)\n",
    "r2_test = r2_score(y_test, y_test_pred)\n",
    "\n",
    "# Εκτύπωση αποτελεσμάτων\n",
    "print(f'Test MSE: {mse_test}')\n",
    "print(f'Test MAE: {mae_test}')\n",
    "print(f'Test R²: {r2_test}')"
   ]
  }
 ],
 "metadata": {
  "kernelspec": {
   "display_name": "Python 3 (ipykernel)",
   "language": "python",
   "name": "python3"
  },
  "language_info": {
   "codemirror_mode": {
    "name": "ipython",
    "version": 3
   },
   "file_extension": ".py",
   "mimetype": "text/x-python",
   "name": "python",
   "nbconvert_exporter": "python",
   "pygments_lexer": "ipython3",
   "version": "3.13.0"
  }
 },
 "nbformat": 4,
 "nbformat_minor": 5
}
